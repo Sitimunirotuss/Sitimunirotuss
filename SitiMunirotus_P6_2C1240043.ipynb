{
  "nbformat": 4,
  "nbformat_minor": 0,
  "metadata": {
    "colab": {
      "provenance": [],
      "toc_visible": true,
      "authorship_tag": "ABX9TyMfoe0tdwixg5uayRf53KZN",
      "include_colab_link": true
    },
    "kernelspec": {
      "name": "python3",
      "display_name": "Python 3"
    },
    "language_info": {
      "name": "python"
    }
  },
  "cells": [
    {
      "cell_type": "markdown",
      "metadata": {
        "id": "view-in-github",
        "colab_type": "text"
      },
      "source": [
        "<a href=\"https://colab.research.google.com/github/Sitimunirotuss/Sitimunirotuss/blob/main/SitiMunirotus_P6_2C1240043.ipynb\" target=\"_parent\"><img src=\"https://colab.research.google.com/assets/colab-badge.svg\" alt=\"Open In Colab\"/></a>"
      ]
    },
    {
      "cell_type": "code",
      "execution_count": null,
      "metadata": {
        "colab": {
          "base_uri": "https://localhost:8080/"
        },
        "id": "KZmopJ4yBVAm",
        "outputId": "64da18e6-d158-42c0-a49e-5f0500e3b2c7"
      },
      "outputs": [
        {
          "output_type": "stream",
          "name": "stdout",
          "text": [
            "Sembilan Lebih Besar Dari Angka Tujuh\n"
          ]
        }
      ],
      "source": [
        "#Kondisi if adalah kondisi yang akan dieksekusi oleh program jika bernilai benar atau TRUE\n",
        "\n",
        "nilai = 9\n",
        "\n",
        "#jika kondisi benar/TRUE maka program akan mengeksekusi perintah dibawahnya\n",
        "if(nilai > 7):\n",
        "    print(\"Sembilan Lebih Besar Dari Angka Tujuh\") # Kondisi Benar, Dieksekusi\n",
        "\n",
        "#jika kondisi salah/FALSE maka program tidak akan mengeksekusi perintah dibawahnya\n",
        "if(nilai > 10):\n",
        "    print(\"Sembilan Lebih Besar Dari Angka Sepuluh\") # Kondisi Salah, Maka tidak tereksekusi"
      ]
    },
    {
      "cell_type": "code",
      "source": [
        "grade = 100\n",
        "\n",
        "if grade == 100:\n",
        "    print(\"perfect\")\n",
        "\n",
        "if grade == 90:\n",
        "    print(\"ok\")\n",
        "    print(\"keep working hard!\")"
      ],
      "metadata": {
        "colab": {
          "base_uri": "https://localhost:8080/"
        },
        "id": "en_jI5veBnab",
        "outputId": "3bf3b497-2c86-44f1-bc00-b582028a698d"
      },
      "execution_count": null,
      "outputs": [
        {
          "output_type": "stream",
          "name": "stdout",
          "text": [
            "perfect\n"
          ]
        }
      ]
    },
    {
      "cell_type": "code",
      "source": [
        "grade = float(input(\"Masukkan Nilai Anda: \"))\n",
        "\n",
        "if grade == 100:\n",
        "    print(\"perfect\")\n",
        "\n",
        "if grade == 90:\n",
        "    print(\"ok\")\n",
        "    print(\"keep working hard!\")"
      ],
      "metadata": {
        "colab": {
          "base_uri": "https://localhost:8080/"
        },
        "id": "HCrFdOZIBzCA",
        "outputId": "5c3e9e47-f3a8-429b-c89c-89d6eaa46d22"
      },
      "execution_count": null,
      "outputs": [
        {
          "output_type": "stream",
          "name": "stdout",
          "text": [
            "Masukkan Nilai Anda: 100\n",
            "perfect\n"
          ]
        }
      ]
    },
    {
      "cell_type": "code",
      "source": [
        "grade = int(input(\"Masukkan Nilai Anda: \"))\n",
        "\n",
        "if grade == 100:\n",
        "    print(\"perfect\")\n",
        "\n",
        "if grade == 90:\n",
        "    print(\"ok\")\n",
        "    print(\"keep working hard!\")"
      ],
      "metadata": {
        "colab": {
          "base_uri": "https://localhost:8080/"
        },
        "id": "FgeDEVBOB4J4",
        "outputId": "b043d952-6e45-4c83-b759-1b01eea65993"
      },
      "execution_count": null,
      "outputs": [
        {
          "output_type": "stream",
          "name": "stdout",
          "text": [
            "Masukkan Nilai Anda: 90\n",
            "ok\n",
            "keep working hard!\n"
          ]
        }
      ]
    },
    {
      "cell_type": "code",
      "source": [
        "grade = float(input(\"Masukkan Nilai Anda: \"))\n",
        "\n",
        "if grade == 100:\n",
        "    print(\"perfect\")\n",
        "\n",
        "if grade == 90:\n",
        "    print(\"ok\")\n",
        "    print(\"keep working hard!\")"
      ],
      "metadata": {
        "colab": {
          "base_uri": "https://localhost:8080/"
        },
        "id": "FEdWmu4wB-Q7",
        "outputId": "e20679bd-2604-4560-bb88-c72ec4881499"
      },
      "execution_count": null,
      "outputs": [
        {
          "name": "stdout",
          "output_type": "stream",
          "text": [
            "Masukkan Nilai Anda: 70\n"
          ]
        }
      ]
    },
    {
      "cell_type": "code",
      "source": [
        "# Kondisi if else adalah jika kondisi bernilai TRUE maka akan dieksekusi pada if,\n",
        "# tetapi jika bernilai FALSE maka akan dieksekusi kode pada else\n",
        "\n",
        "nilai = 3\n",
        "# Jika pernyataan pada if bernilai TRUE maka if akan dieksekusi,\n",
        "# tetapi jika FALSE kode pada else yang akan dieksekusi.\n",
        "if(nilai > 7):\n",
        "    print(\"Selamat Anda Lulus\")\n",
        "else:\n",
        "    print(\"Maaf Anda Tidak Lulus\")"
      ],
      "metadata": {
        "colab": {
          "base_uri": "https://localhost:8080/"
        },
        "id": "V3-8bpTHCIU6",
        "outputId": "eafd2c0e-4ea2-4e4c-9217-12b2cf880a95"
      },
      "execution_count": null,
      "outputs": [
        {
          "output_type": "stream",
          "name": "stdout",
          "text": [
            "Maaf Anda Tidak Lulus\n"
          ]
        }
      ]
    },
    {
      "cell_type": "code",
      "source": [
        "# Kondisi if else adalah jika kondisi bernilai TRUE maka akan dieksekusi pada if,\n",
        "# tetapi jika bernilai FALSE maka akan dieksekusi kode pada else\n",
        "\n",
        "nilai = 8\n",
        "# Jika pernyataan pada if bernilai TRUE maka if akan dieksekusi,\n",
        "# tetapi jika FALSE kode pada else yang akan dieksekusi.\n",
        "if(nilai > 7):\n",
        "    print(\"Selamat Anda Lulus\")\n",
        "else:\n",
        "    print(\"Maaf Anda Tidak Lulus\")"
      ],
      "metadata": {
        "colab": {
          "base_uri": "https://localhost:8080/"
        },
        "id": "Ug5hIG6GCM7x",
        "outputId": "944ef50f-8cd9-4a00-9dff-e8c55d6e50b6"
      },
      "execution_count": null,
      "outputs": [
        {
          "output_type": "stream",
          "name": "stdout",
          "text": [
            "Selamat Anda Lulus\n"
          ]
        }
      ]
    },
    {
      "cell_type": "code",
      "source": [
        "str_input = input('Enter your grade: ')\n",
        "grade = int(str_input)\n",
        "\n",
        "if grade == 100:\n",
        "    print(\"perfect\")\n",
        "else:\n",
        "    print(\"keep it up\")"
      ],
      "metadata": {
        "colab": {
          "base_uri": "https://localhost:8080/"
        },
        "id": "OBd38Us8CRxI",
        "outputId": "2c82038c-c43c-4380-de91-912441093e94"
      },
      "execution_count": null,
      "outputs": [
        {
          "output_type": "stream",
          "name": "stdout",
          "text": [
            "Enter your grade: 100\n",
            "perfect\n"
          ]
        }
      ]
    },
    {
      "cell_type": "code",
      "source": [
        "# Kondisi if else adalah jika kondisi bernilai TRUE maka akan dieksekusi pada if,\n",
        "# tetapi jika bernilai FALSE maka akan dieksekusi kode pada else\n",
        "\n",
        "nilai = 3\n",
        "# Jika pernyataan pada if bernilai TRUE maka if akan dieksekusi,\n",
        "# tetapi jika FALSE kode pada else yang akan dieksekusi.\n",
        "if(nilai > 7):\n",
        "    print(\"Selamat Anda Lulus\")\n",
        "else:\n",
        "    print(\"Maaf Anda Tidak Lulus\")# Kondisi if else adalah jika kondisi bernilai TRUE maka akan dieksekusi pada if,\n",
        "# tetapi jika bernilai FALSE maka akan dieksekusi kode pada else"
      ],
      "metadata": {
        "colab": {
          "base_uri": "https://localhost:8080/"
        },
        "id": "KUoPGWzXCXgZ",
        "outputId": "de8f0073-cac9-4809-9f52-b454f308d411"
      },
      "execution_count": null,
      "outputs": [
        {
          "output_type": "stream",
          "name": "stdout",
          "text": [
            "Maaf Anda Tidak Lulus\n"
          ]
        }
      ]
    },
    {
      "cell_type": "code",
      "source": [
        "#Contoh penggunaan kondisi elif\n",
        "\n",
        "hari_ini = \"Minggu\"\n",
        "\n",
        "if(hari_ini == \"Senin\"):\n",
        "    print(\"Saya akan kuliah\")\n",
        "elif(hari_ini == \"Selasa\"):\n",
        "    print(\"Saya akan kuliah\")\n",
        "elif(hari_ini == \"Rabu\"):\n",
        "    print(\"Saya akan kuliah\")\n",
        "elif(hari_ini == \"Kamis\"):\n",
        "    print(\"Saya akan kuliah\")\n",
        "elif(hari_ini == \"Jumat\"):\n",
        "    print(\"Saya akan kuliah\")\n",
        "elif(hari_ini == \"Sabtu\"):\n",
        "    print(\"Saya akan kuliah\")\n",
        "elif(hari_ini == \"Minggu\"):\n",
        "    print(\"Saya akan libur\")"
      ],
      "metadata": {
        "colab": {
          "base_uri": "https://localhost:8080/"
        },
        "id": "u_Nmkf1NCctx",
        "outputId": "837b3de0-1b68-4b4f-d5b1-175ee734d96c"
      },
      "execution_count": null,
      "outputs": [
        {
          "output_type": "stream",
          "name": "stdout",
          "text": [
            "Saya akan libur\n"
          ]
        }
      ]
    },
    {
      "cell_type": "code",
      "source": [
        "Lapar = input(\"Apakah zaki lapar? \")\n",
        "if(Lapar == \"ya\"):\n",
        "   print(\"zaki makan\")\n",
        "else:\n",
        "   print(\"zaki tidak makan\")"
      ],
      "metadata": {
        "colab": {
          "base_uri": "https://localhost:8080/"
        },
        "id": "b1DgwmUAGmOy",
        "outputId": "b28719fb-8af8-46de-daa2-f0a4411a6e4e"
      },
      "execution_count": null,
      "outputs": [
        {
          "output_type": "stream",
          "name": "stdout",
          "text": [
            "Apakah zaki lapar? tidak\n",
            "zaki tidak makan\n"
          ]
        }
      ]
    },
    {
      "cell_type": "code",
      "source": [
        "#Contoh penggunaan kondisi elif\n",
        "\n",
        "hari_ini = input(\"Masukkan hari(gunakan huruf kecil): \")\n",
        "\n",
        "if(hari_ini == \"senin\"):\n",
        "    print(\"Saya akan kuliah\")\n",
        "elif(hari_ini == \"selasa\"):\n",
        "    print(\"Saya akan kuliah\")\n",
        "elif(hari_ini == \"rabu\"):\n",
        "    print(\"Saya akan kuliah\")\n",
        "elif(hari_ini == \"kamis\"):\n",
        "    print(\"Saya akan kuliah\")\n",
        "elif(hari_ini == \"jumat\"):\n",
        "    print(\"Saya akan kuliah\")\n",
        "elif(hari_ini == \"sabtu\"):\n",
        "    print(\"Saya akan kuliah\")\n",
        "elif(hari_ini == \"minggu\"):\n",
        "    print(\"Saya akan libur\")"
      ],
      "metadata": {
        "colab": {
          "base_uri": "https://localhost:8080/"
        },
        "id": "fH2YJiFlDT4p",
        "outputId": "95bfcb96-1e99-41fd-8891-af48d017a70e"
      },
      "execution_count": null,
      "outputs": [
        {
          "output_type": "stream",
          "name": "stdout",
          "text": [
            "Masukkan hari(gunakan huruf kecil): rabu\n",
            "Saya akan kuliah\n"
          ]
        }
      ]
    },
    {
      "cell_type": "code",
      "source": [
        "str_input = input('Enter your grade: ')\n",
        "grade = int(str_input)\n",
        "\n",
        "if grade == 100:\n",
        "    print(\"perfect\")\n",
        "elif grade >= 85:\n",
        "    print(\"awesome\")\n",
        "elif grade >= 65:\n",
        "    print(\"passed the exam\")"
      ],
      "metadata": {
        "colab": {
          "base_uri": "https://localhost:8080/"
        },
        "id": "xl4zU_c0DjOp",
        "outputId": "4969a710-90d3-4322-8dfc-9bac2d857c8f"
      },
      "execution_count": null,
      "outputs": [
        {
          "output_type": "stream",
          "name": "stdout",
          "text": [
            "Enter your grade: 88\n",
            "awesome\n"
          ]
        }
      ]
    },
    {
      "cell_type": "code",
      "source": [
        "str_input = input('Enter your grade: ')\n",
        "grade = int(str_input)\n",
        "\n",
        "if grade == 100:\n",
        "    print(\"perfect\")\n",
        "elif grade >= 85:\n",
        "    print(\"awesome\")\n",
        "elif grade >= 65:\n",
        "    print(\"passed the exam\")\n",
        "else:\n",
        "    print(\"below the passing grade\")"
      ],
      "metadata": {
        "colab": {
          "base_uri": "https://localhost:8080/"
        },
        "id": "dn0SBba5DwF6",
        "outputId": "9ad68f81-6468-4b2a-9f82-67c773590a00"
      },
      "execution_count": null,
      "outputs": [
        {
          "output_type": "stream",
          "name": "stdout",
          "text": [
            "Enter your grade: 90\n",
            "awesome\n"
          ]
        }
      ]
    },
    {
      "cell_type": "code",
      "source": [
        "str_input = input('Enter your grade: ')\n",
        "grade = int(str_input)\n",
        "\n",
        "if grade == 100:\n",
        "    print(\"perfect\")\n",
        "\n",
        "elif grade >= 85:\n",
        "    print(\"awesome\")\n",
        "\n",
        "elif grade >= 65:\n",
        "    print(\"passed the exam\")\n",
        "\n",
        "    if grade <= 70:\n",
        "        print(\"but you need to improve it!\")\n",
        "    else:\n",
        "        print(\"with ok grade\")\n",
        "\n",
        "else:\n",
        "    print(\"below the passing grade\")"
      ],
      "metadata": {
        "colab": {
          "base_uri": "https://localhost:8080/"
        },
        "id": "bSYBxH3GD6FZ",
        "outputId": "64009e54-6209-4dd2-b008-14166c4ba558"
      },
      "execution_count": null,
      "outputs": [
        {
          "output_type": "stream",
          "name": "stdout",
          "text": [
            "Enter your grade: 75\n",
            "passed the exam\n",
            "with ok grade\n"
          ]
        }
      ]
    },
    {
      "cell_type": "code",
      "source": [
        "str_input = input('Enter your grade: ')\n",
        "grade = int(str_input)\n",
        "\n",
        "if grade == 100:\n",
        "    print(\"perfect\")\n",
        "\n",
        "elif grade >= 85:\n",
        "    print(\"awesome\")\n",
        "\n",
        "elif grade >= 65:\n",
        "    print(\"passed the exam\")\n",
        "\n",
        "    if grade <= 70:\n",
        "        print(\"but you need to improve it!\")\n",
        "    else:\n",
        "        print(\"with ok grade\")\n",
        "\n",
        "else:\n",
        "    print(\"below the passing grade\")"
      ],
      "metadata": {
        "colab": {
          "base_uri": "https://localhost:8080/"
        },
        "id": "bE_lv5hmEFP8",
        "outputId": "27efb58f-38d5-4905-e787-3157701615c5"
      },
      "execution_count": null,
      "outputs": [
        {
          "output_type": "stream",
          "name": "stdout",
          "text": [
            "Enter your grade: 99\n",
            "awesome\n"
          ]
        }
      ]
    },
    {
      "cell_type": "code",
      "source": [
        "grade = int(input('Enter your current grade: '))\n",
        "prev_grade = int(input('Enter your previous grade: '))\n",
        "\n",
        "if grade >= 90 and prev_grade >= 65:\n",
        "    print(\"awesome\")\n",
        "if grade >= 90 and prev_grade < 65:\n",
        "    print(\"awesome. you definitely working hard, right?\")\n",
        "elif grade >= 65:\n",
        "    print(\"passed the exam\")\n",
        "else:\n",
        "    print(\"below the passing grade\")\n",
        "\n",
        "if (grade >= 65 and not prev_grade >= 65) or (not grade >= 65 and prev_grade >= 65):\n",
        "    print(\"at least you passed one exam. good job!\")"
      ],
      "metadata": {
        "colab": {
          "base_uri": "https://localhost:8080/"
        },
        "id": "PNkYG-mXGKvB",
        "outputId": "c9e0e27e-eb1a-431a-a2dd-3edf12a79386"
      },
      "execution_count": null,
      "outputs": [
        {
          "output_type": "stream",
          "name": "stdout",
          "text": [
            "Enter your current grade: 78\n",
            "Enter your previous grade: 90\n",
            "passed the exam\n"
          ]
        }
      ]
    },
    {
      "cell_type": "code",
      "source": [
        "grade = int(input('Enter your current grade: '))\n",
        "prev_grade = int(input('Enter your previous grade: '))\n",
        "\n",
        "if grade >= 90 and prev_grade >= 65:\n",
        "    print(\"awesome\")\n",
        "if grade >= 90 and prev_grade < 65:\n",
        "    print(\"awesome. you definitely working hard, right?\")\n",
        "elif grade >= 65:\n",
        "    print(\"passed the exam\")\n",
        "else:\n",
        "    print(\"below the passing grade\")\n",
        "\n",
        "if (grade >= 65 and not prev_grade >= 65) or (not grade >= 65 and prev_grade >= 65):\n",
        "    print(\"at least you passed one exam. good job!\")"
      ],
      "metadata": {
        "colab": {
          "base_uri": "https://localhost:8080/"
        },
        "id": "Ouas05E0GVYh",
        "outputId": "4533052e-7a69-4d49-f93f-3d7e9cefafb0"
      },
      "execution_count": null,
      "outputs": [
        {
          "output_type": "stream",
          "name": "stdout",
          "text": [
            "Enter your current grade: 77\n",
            "Enter your previous grade: 90\n",
            "passed the exam\n"
          ]
        }
      ]
    },
    {
      "cell_type": "code",
      "source": [
        "grade = int(input('Enter your current grade: '))\n",
        "prev_grade = int(input('Enter your previous grade: '))\n",
        "\n",
        "if grade >= 90 and prev_grade >= 65:\n",
        "    print(\"awesome\")\n",
        "if grade >= 90 and prev_grade < 65:\n",
        "    print(\"awesome. you definitely working hard, right?\")\n",
        "elif grade >= 65:\n",
        "    print(\"passed the exam\")\n",
        "else:\n",
        "    print(\"below the passing grade\")\n",
        "\n",
        "if (grade >= 65 and not prev_grade >= 65) or (not grade >= 65 and prev_grade >= 65):\n",
        "    print(\"at least you passed one exam. good job!\")"
      ],
      "metadata": {
        "colab": {
          "base_uri": "https://localhost:8080/"
        },
        "id": "Q8h7ir1VGbky",
        "outputId": "138da93c-d902-493e-e9df-93b0034d2a03"
      },
      "execution_count": null,
      "outputs": [
        {
          "output_type": "stream",
          "name": "stdout",
          "text": [
            "Enter your current grade: 80\n",
            "Enter your previous grade: 89\n",
            "passed the exam\n"
          ]
        }
      ]
    },
    {
      "cell_type": "code",
      "source": [
        "# Meminta input dari pengguna\n",
        "bilangan = int(input(\"Masukkan sebuah bilangan: \"))\n",
        "\n",
        "# Memeriksa apakah bilangan habis dibagi 3\n",
        "if bilangan % 3 == 0:\n",
        "    print(f\"Bilangan {bilangan} habis dibagi 3.\")\n",
        "else:\n",
        "    print(f\"Bilangan {bilangan} tidak habis dibagi 3.\")"
      ],
      "metadata": {
        "colab": {
          "base_uri": "https://localhost:8080/"
        },
        "id": "DY8nR-IpzpUn",
        "outputId": "8cde7e8f-9787-44be-a13a-021de7ab82a3"
      },
      "execution_count": 1,
      "outputs": [
        {
          "output_type": "stream",
          "name": "stdout",
          "text": [
            "Masukkan sebuah bilangan: 9\n",
            "Bilangan 9 habis dibagi 3.\n"
          ]
        }
      ]
    },
    {
      "cell_type": "code",
      "source": [
        "# Meminta input nama dari pengguna\n",
        "nama = input(\"Masukkan nama Anda: \")\n",
        "\n",
        "# Meminta input jenis kelamin dari pengguna\n",
        "kelamin = input(\"Masukkan jenis kelamin (pria/wanita): \").lower()\n",
        "\n",
        "# Memeriksa jenis kelamin dan mencetak pesan yang sesuai\n",
        "if kelamin == \"pria\":\n",
        "    print(f\"Halo bro, {nama}!\")\n",
        "elif kelamin == \"wanita\":\n",
        "    print(f\"Halo sis, {nama}!\")\n",
        "else:\n",
        "    print(\"Jenis kelamin tidak valid. Silakan masukkan 'pria' atau 'wanita'.\")"
      ],
      "metadata": {
        "colab": {
          "base_uri": "https://localhost:8080/"
        },
        "id": "03XWCCq91WVT",
        "outputId": "f0a1843e-c4b5-4b73-c613-697b28ec43a7"
      },
      "execution_count": 2,
      "outputs": [
        {
          "output_type": "stream",
          "name": "stdout",
          "text": [
            "Masukkan nama Anda: Siti Munirotus S\n",
            "Masukkan jenis kelamin (pria/wanita): Wanita\n",
            "Halo sis, Siti Munirotus S!\n"
          ]
        }
      ]
    },
    {
      "cell_type": "code",
      "source": [
        "# Meminta input nilai ujian dari pengguna\n",
        "nilai = int(input(\"Masukkan nilai ujian (0-100): \"))\n",
        "\n",
        "# Memeriksa kondisi nilai menggunakan if-elif-else\n",
        "if nilai >= 90:\n",
        "    print(\"Selamat, Anda mendapatkan nilai A. Lulus dengan sangat baik!\")\n",
        "elif nilai >= 75:\n",
        "    print(\"Anda mendapatkan nilai B. Lulus dengan baik.\")\n",
        "elif nilai >= 60:\n",
        "    print(\"Anda mendapatkan nilai C. Lulus.\")\n",
        "elif nilai >= 50:\n",
        "    print(\"Anda mendapatkan nilai D. Lulus dengan nilai minimum.\")\n",
        "else:\n",
        "    print(\"Maaf, Anda mendapatkan nilai E. Tidak lulus.\")\n"
      ],
      "metadata": {
        "colab": {
          "base_uri": "https://localhost:8080/"
        },
        "id": "yuy2CgPr1n_O",
        "outputId": "21fa4892-c441-4774-d309-b83d2f96c446"
      },
      "execution_count": 3,
      "outputs": [
        {
          "output_type": "stream",
          "name": "stdout",
          "text": [
            "Masukkan nilai ujian (0-100): 90\n",
            "Selamat, Anda mendapatkan nilai A. Lulus dengan sangat baik!\n"
          ]
        }
      ]
    }
  ]
}