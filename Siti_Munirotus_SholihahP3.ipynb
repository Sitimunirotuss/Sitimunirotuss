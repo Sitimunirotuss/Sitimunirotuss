{
  "nbformat": 4,
  "nbformat_minor": 0,
  "metadata": {
    "colab": {
      "provenance": [],
      "authorship_tag": "ABX9TyPI+phFMwecz5fIjwXTN7nl",
      "include_colab_link": true
    },
    "kernelspec": {
      "name": "python3",
      "display_name": "Python 3"
    },
    "language_info": {
      "name": "python"
    }
  },
  "cells": [
    {
      "cell_type": "markdown",
      "metadata": {
        "id": "view-in-github",
        "colab_type": "text"
      },
      "source": [
        "<a href=\"https://colab.research.google.com/github/Sitimunirotuss/Sitimunirotuss/blob/main/Siti_Munirotus_SholihahP3.ipynb\" target=\"_parent\"><img src=\"https://colab.research.google.com/assets/colab-badge.svg\" alt=\"Open In Colab\"/></a>"
      ]
    },
    {
      "cell_type": "code",
      "execution_count": 5,
      "metadata": {
        "colab": {
          "base_uri": "https://localhost:8080/"
        },
        "id": "qM-Oh7icr_W7",
        "outputId": "1e1774e8-6953-49a4-abce-2c176ac4aef2"
      },
      "outputs": [
        {
          "output_type": "stream",
          "name": "stdout",
          "text": [
            "7\n"
          ]
        }
      ],
      "source": [
        "NumbInt=[9,8,7,6,5,4,3,2,1,0]\n",
        "print(NumbInt[2])"
      ]
    },
    {
      "cell_type": "code",
      "source": [
        "NumbInt = [0 for i in range(10)]\n",
        "print(NumbInt[4])"
      ],
      "metadata": {
        "colab": {
          "base_uri": "https://localhost:8080/"
        },
        "id": "38DQyqx5xrQI",
        "outputId": "5e2091f3-0cda-4723-8c3b-3d739263260e"
      },
      "execution_count": 26,
      "outputs": [
        {
          "output_type": "stream",
          "name": "stdout",
          "text": [
            "0\n"
          ]
        }
      ]
    },
    {
      "cell_type": "code",
      "source": [
        "StarChar = ['6' for i in range(10)]\n",
        "print(StarChar[8])"
      ],
      "metadata": {
        "colab": {
          "base_uri": "https://localhost:8080/"
        },
        "id": "sTL324KJx08o",
        "outputId": "f988d35c-ef7a-49f2-cf09-02a688e71f2b"
      },
      "execution_count": 27,
      "outputs": [
        {
          "output_type": "stream",
          "name": "stdout",
          "text": [
            "6\n"
          ]
        }
      ]
    },
    {
      "cell_type": "code",
      "source": [
        "NumbInt = [1, 2, 4, -1, 100, 2, 0, -1, 3, 9]\n",
        "print(NumbInt[5])"
      ],
      "metadata": {
        "colab": {
          "base_uri": "https://localhost:8080/"
        },
        "id": "QJCh7nFhyfiw",
        "outputId": "12ba379c-965a-43b0-e641-445e5f441515"
      },
      "execution_count": 22,
      "outputs": [
        {
          "output_type": "stream",
          "name": "stdout",
          "text": [
            "2\n"
          ]
        }
      ]
    },
    {
      "cell_type": "code",
      "source": [],
      "metadata": {
        "id": "D7hZElhayoQA"
      },
      "execution_count": null,
      "outputs": []
    },
    {
      "cell_type": "code",
      "source": [
        "# Program IsiArray\n",
        "# Mengisi array dengan nilai dari pengguna\n",
        "# KAMUS\n",
        "# TabInt : array [0..9] of int\n",
        "# i: int\n",
        "# ALGORITMA\n",
        "# Deklarasi array NumbInt dan mengisinya dengan nilai default 0\n",
        "NumbInt = [0 for i in range(10)]\n",
        "# Mengisi array dari pembacaan nilai dari keyboard\n",
        "for i in range(0,10): NumbInt[i] = int(input())\n"
      ],
      "metadata": {
        "colab": {
          "base_uri": "https://localhost:8080/"
        },
        "id": "4tJWq7qRueaq",
        "outputId": "f71f8c25-be68-4be8-f576-e9c9ec3debf6"
      },
      "execution_count": 6,
      "outputs": [
        {
          "name": "stdout",
          "output_type": "stream",
          "text": [
            "7\n",
            "8\n",
            "0\n",
            "4\n",
            "6\n",
            "8\n",
            "9\n",
            "6\n",
            "6\n",
            "6\n"
          ]
        }
      ]
    },
    {
      "cell_type": "code",
      "source": [
        "# Program IsiArray\n",
        "# Mengisi array dengan nilai dari pengguna\n",
        "# KAMUS\n",
        "# TabInt : array [0..9] of int\n",
        "# I : int\n",
        "# ALGORITMA\n",
        "# Deklarasi array NumbInt dan mengisinya dengan nilai default 0\n",
        "NumbInt = [0 for i in range(10)]\n",
        "# Mengisi array dari pembacaan nilai dari keyboard\n",
        "for i in range(0,10):\n",
        " NumbInt[i] = int(input())\n",
        "# Mencetak isi array\n",
        "for i in range(0,10):\n",
        "  print(NumbInt[i])"
      ],
      "metadata": {
        "colab": {
          "base_uri": "https://localhost:8080/"
        },
        "id": "1JVHHu8du1Kp",
        "outputId": "7c9090bf-bedf-4324-e8fd-14230588b138"
      },
      "execution_count": 28,
      "outputs": [
        {
          "output_type": "stream",
          "name": "stdout",
          "text": [
            "0\n",
            "1\n",
            "2\n",
            "3\n",
            "4\n",
            "5\n",
            "6\n",
            "7\n",
            "8\n",
            "9\n",
            "0\n",
            "1\n",
            "2\n",
            "3\n",
            "4\n",
            "5\n",
            "6\n",
            "7\n",
            "8\n",
            "9\n"
          ]
        }
      ]
    },
    {
      "cell_type": "code",
      "source": [
        "# Program AverageArray\n",
        "# Menghitung nilai rata-rata elemen array\n",
        "# KAMUS\n",
        "# TabInt : array [0..9] of int\n",
        "# i : int\n",
        "# sum : int\n",
        "# ALGORITMA\n",
        "# Deklarasi array TabInt dan mengisinya dengan nilai default 0\n",
        "NumbInt = [0 for i in range(10)]\n",
        "# Mengisi array dari pembacaan nilai dari keyboard\n",
        "for i in range(0,10):\n",
        "  NumbInt[i] = int(input())\n",
        "# Menjumlahkan elemen array\n",
        "sum = 0\n",
        "for i in range(0,10):\n",
        "    sum = sum + NumbInt[i]\n",
        "# Menghitung nilai rata-rata dan menampilkannya\n",
        "rata = sum/10\n",
        "print (\"Nilai rata-rata = \" + str(rata))\n"
      ],
      "metadata": {
        "colab": {
          "base_uri": "https://localhost:8080/"
        },
        "id": "2C86ccH4vHlz",
        "outputId": "4268f322-716e-46db-a78a-49222e298128"
      },
      "execution_count": 31,
      "outputs": [
        {
          "output_type": "stream",
          "name": "stdout",
          "text": [
            "10\n",
            "12\n",
            "14\n",
            "16\n",
            "18\n",
            "20\n",
            "22\n",
            "24\n",
            "26\n",
            "28\n",
            "Nilai rata-rata = 19.0\n"
          ]
        }
      ]
    },
    {
      "cell_type": "code",
      "source": [
        "# Program: Perkalian Array dan Mencari Nilai Ekstrem\n",
        "# 1. Inisialisasi array S\n",
        "S = [4, 1, -1, 10, 0, 12]\n",
        "# 2. Input nilai D dari pengguna\n",
        "D = int(input(\"Masukkan nilai D (pengali): \"))\n",
        "# 3. Kalikan setiap elemen S dengan D\n",
        "S = [elemen * D for elemen in S]\n",
        "# 4. Tampilkan hasil array setelah dikalikan\n",
        "print(\"Array S setelah dikalikan dengan D:\")\n",
        "print(S)\n",
        "# 5. Cari nilai maksimum dan minimum\n",
        "maks = max(S)\n",
        "minim = min(S)\n",
        "# 6. Tampilkan nilai maksimum dan minimum\n",
        "print(\"Nilai terbesar dalam array:\", maks)\n",
        "print(\"Nilai terkecil dalam array:\", minim)"
      ],
      "metadata": {
        "colab": {
          "base_uri": "https://localhost:8080/"
        },
        "id": "_R4KWpLPvY06",
        "outputId": "1051d448-e066-48cd-ff57-0013d0a66f9f"
      },
      "execution_count": 9,
      "outputs": [
        {
          "output_type": "stream",
          "name": "stdout",
          "text": [
            "Masukkan nilai D (pengali): 7\n",
            "Array S setelah dikalikan dengan D:\n",
            "[28, 7, -7, 70, 0, 84]\n",
            "Nilai terbesar dalam array: 84\n",
            "Nilai terkecil dalam array: -7\n"
          ]
        }
      ]
    },
    {
      "cell_type": "code",
      "source": [
        "Matsatuan= [1,0,0,0,0,1],[0,0,0,0,0,0],[1,1,1,2,2,2]\n",
        "print(Matsatuan[1])"
      ],
      "metadata": {
        "colab": {
          "base_uri": "https://localhost:8080/"
        },
        "id": "2uPYnldt1K4J",
        "outputId": "9126e9d6-3c8e-4656-89c1-87c7d5dcaedc"
      },
      "execution_count": 36,
      "outputs": [
        {
          "output_type": "stream",
          "name": "stdout",
          "text": [
            "[0, 0, 0, 0, 0, 0]\n"
          ]
        }
      ]
    },
    {
      "cell_type": "code",
      "source": [
        "MatValue= [3,3,3,3,3,3,],[4,4,4,4,4,4,],[5,5,5,5,5,5,]\n",
        "print(MatValue[1])"
      ],
      "metadata": {
        "colab": {
          "base_uri": "https://localhost:8080/"
        },
        "id": "j45UyOLu5QS3",
        "outputId": "00376092-c9c3-47ec-ea46-339461a5e48a"
      },
      "execution_count": 40,
      "outputs": [
        {
          "output_type": "stream",
          "name": "stdout",
          "text": [
            "[4, 4, 4, 4, 4, 4]\n"
          ]
        }
      ]
    },
    {
      "cell_type": "code",
      "source": [],
      "metadata": {
        "id": "SQByUbXu6qAf"
      },
      "execution_count": null,
      "outputs": []
    },
    {
      "cell_type": "code",
      "source": [
        "# Program IsiMatriks;\n",
        "# Isi matriks dan menulis ke layar\n",
        "# KAMUS\n",
        "# M : matriks of integer\n",
        "# NBrs, NKol : int (ukuran brs & kol)\n",
        "# i, j : int (indeks)\n",
        "# ALGORITMA\n",
        "# deklarasi matriks\n",
        "NBrs = 5; NKol = 5;\n",
        "M = [[0 for j in range(NKol)] for i in range(NBrs)]\n",
        "# Mengisi matriks ukuran NBrsxNKol\n",
        "for i in range (NBrs):\n",
        " for j in range (NKol):\n",
        "  M[i][j] = i * j\n",
        "# Menuliskan isi matriks ke layar\n",
        "for i in range (NBrs):\n",
        " for j in range (NKol):\n",
        "  print(str(M[i][j])+\" \", end= \" \")\n",
        "print() # print hanya enter"
      ],
      "metadata": {
        "colab": {
          "base_uri": "https://localhost:8080/"
        },
        "id": "4cKNO5ww60UG",
        "outputId": "6eb2b719-1ecc-4f0c-e6bf-ebd3c883d195"
      },
      "execution_count": 41,
      "outputs": [
        {
          "output_type": "stream",
          "name": "stdout",
          "text": [
            "0  0  0  0  0  0  1  2  3  4  0  2  4  6  8  0  3  6  9  12  0  4  8  12  16  \n"
          ]
        }
      ]
    },
    {
      "cell_type": "code",
      "source": [
        "# Program BacaMatriks;\n",
        "# Baca isi matriks dari pengguna dan menulis ke layar\n",
        "# KAMUS\n",
        "# M : matriks of integer\n",
        "# NBrs, NKol : int (ukuran brs & kol)\n",
        "# i, j : int (indeks)\n",
        "# ALGORITMA\n",
        "# deklarasi matriks\n",
        "NBrs = 5; NKol = 5;\n",
        "M = [[0 for j in range(NKol)] for i in range(NBrs)]\n",
        "# Mengisi matriks ukuran NBrsxNKol\n",
        "for i in range (NBrs):\n",
        "  for j in range (NKol):\n",
        "   M[i][j] = int(input(\"Elemen ke-[\"+str(i)+\",\"+str(j)+\"] = \"))\n",
        "# Menuliskan isi matriks ke layar\n",
        "for i in range (NBrs):\n",
        " for j in range (NKol):7\n",
        "print(str(M[i][j])+\" \", end='') # print tanpa enter\n",
        "print() # print hanya enter"
      ],
      "metadata": {
        "colab": {
          "base_uri": "https://localhost:8080/"
        },
        "id": "1kD6EM2x7Or_",
        "outputId": "9858e736-b51f-4ce2-9066-275a320f7689"
      },
      "execution_count": 44,
      "outputs": [
        {
          "output_type": "stream",
          "name": "stdout",
          "text": [
            "Elemen ke-[0,0] = 0\n",
            "Elemen ke-[0,1] = 1\n",
            "Elemen ke-[0,2] = 2\n",
            "Elemen ke-[0,3] = 3\n",
            "Elemen ke-[0,4] = 4\n",
            "Elemen ke-[1,0] = 5\n",
            "Elemen ke-[1,1] = 6\n",
            "Elemen ke-[1,2] = 7\n",
            "Elemen ke-[1,3] = 8\n",
            "Elemen ke-[1,4] = 9\n",
            "Elemen ke-[2,0] = 10\n",
            "Elemen ke-[2,1] = 11\n",
            "Elemen ke-[2,2] = 12\n",
            "Elemen ke-[2,3] = 13\n",
            "Elemen ke-[2,4] = 14\n",
            "Elemen ke-[3,0] = 15\n",
            "Elemen ke-[3,1] = 16\n",
            "Elemen ke-[3,2] = 17\n",
            "Elemen ke-[3,3] = 18\n",
            "Elemen ke-[3,4] = 19\n",
            "Elemen ke-[4,0] = 20\n",
            "Elemen ke-[4,1] = 7\n",
            "Elemen ke-[4,2] = 5\n",
            "Elemen ke-[4,3] = 4\n",
            "Elemen ke-[4,4] = 6\n",
            "0 1 2 3 4 5 6 7 8 9 10 11 12 13 14 15 16 17 18 19 20 7 5 4 6 \n"
          ]
        }
      ]
    },
    {
      "cell_type": "code",
      "source": [
        "# Program untuk membaca matriks dan mengalikan setiap elemennya dengan X\n",
        "# Membaca ukuran matriks\n",
        "baris = int(input(\"Masukkan jumlah baris: \"))\n",
        "kolom = int(input(\"Masukkan jumlah kolom: \"))\n",
        "# Membaca elemen-elemen matriks\n",
        "print(\"Masukkan elemen-elemen matriks:\")\n",
        "matriks = []\n",
        "for i in range(baris):\n",
        " baris_matriks = []\n",
        " for j in range(kolom):\n",
        "  elemen = int(input(f\"Elemen [{i}][{j}]: \"))\n",
        " baris_matriks.append(elemen)\n",
        " matriks.append(baris_matriks)\n",
        "# Membaca nilai X\n",
        "X = int(input(\"Masukkan nilai X untuk mengalikan semua elemen matriks: \"))\n",
        "# Mengalikan setiap elemen matriks dengan X\n",
        "hasil = []\n",
        "for i in range(baris):\n",
        " hasil_baris = []\n",
        " for j in range(kolom):\n",
        "  hasil_baris.append(matriks[i][j] * X)\n",
        "  hasil.append(hasil_baris)\n",
        "print(\"\\nMatriks setelah dikalikan dengan\", X, \":\")\n",
        "for baris in hasil:\n",
        " print(baris)"
      ],
      "metadata": {
        "colab": {
          "base_uri": "https://localhost:8080/"
        },
        "id": "caYrE_ac8Bz_",
        "outputId": "30df7e25-7f22-47d3-f68d-c203cb6b09fd"
      },
      "execution_count": 50,
      "outputs": [
        {
          "output_type": "stream",
          "name": "stdout",
          "text": [
            "Masukkan jumlah baris: 1\n",
            "Masukkan jumlah kolom: 1\n",
            "Masukkan elemen-elemen matriks:\n",
            "Elemen [0][0]: 2\n",
            "Masukkan nilai X untuk mengalikan semua elemen matriks: 1\n",
            "\n",
            "Matriks setelah dikalikan dengan 1 :\n",
            "[2]\n"
          ]
        }
      ]
    },
    {
      "cell_type": "code",
      "source": [
        "# Program untuk membuat transpose dari sebuah matriks\n",
        "# Input ukuran matriks\n",
        "baris = int(input(\"Masukkan jumlah baris matriks M: \"))\n",
        "kolom = int(input(\"Masukkan jumlah kolom matriks M: \"))\n",
        "# Input elemen-elemen matriks M\n",
        "print(\"Masukkan elemen-elemen matriks M:\")\n",
        "M = []\n",
        "for i in range(baris):\n",
        " baris_matriks = []\n",
        " for j in range(kolom):\n",
        "  elemen = int(input(f\"Elemen M[{i}][{j}]: \"))\n",
        " baris_matriks.append(elemen)\n",
        " M.append(baris_matriks)\n",
        "# Membuat transpose dari M (MTranspose)\n",
        "MTranspose = []\n",
        "for i in range(kolom): # baris MTranspose = kolom M\n",
        " baris_transpose = []\n",
        " for j in range(baris): # kolom MTranspose = baris M  baris_transpose.append(M[j][i])\n",
        " # MTranspose[i][j] = M[j][i]MTranspose.append(baris_transpose)\n",
        "# Output hasil transpose\n",
        "  print(\"\\nMatriks Transpose (MTranspose):\")\n",
        "for baris in MTranspose:\n",
        " print(baris)"
      ],
      "metadata": {
        "colab": {
          "base_uri": "https://localhost:8080/"
        },
        "id": "71aM50BC9u5u",
        "outputId": "bd539530-ee72-4a2b-968d-91710decf405"
      },
      "execution_count": 54,
      "outputs": [
        {
          "output_type": "stream",
          "name": "stdout",
          "text": [
            "Masukkan jumlah baris matriks M: 2\n",
            "Masukkan jumlah kolom matriks M: 2\n",
            "Masukkan elemen-elemen matriks M:\n",
            "Elemen M[0][0]: 2\n",
            "Elemen M[0][1]: 3\n",
            "Elemen M[1][0]: 4\n",
            "Elemen M[1][1]: 5\n",
            "\n",
            "Matriks Transpose (MTranspose):\n",
            "\n",
            "Matriks Transpose (MTranspose):\n",
            "\n",
            "Matriks Transpose (MTranspose):\n",
            "\n",
            "Matriks Transpose (MTranspose):\n"
          ]
        }
      ]
    }
  ]
}