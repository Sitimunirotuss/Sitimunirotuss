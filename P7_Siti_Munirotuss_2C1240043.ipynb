{
  "cells": [
    {
      "cell_type": "markdown",
      "metadata": {
        "id": "view-in-github",
        "colab_type": "text"
      },
      "source": [
        "<a href=\"https://colab.research.google.com/github/Sitimunirotuss/Sitimunirotuss/blob/main/P7_Siti_Munirotuss_2C1240043.ipynb\" target=\"_parent\"><img src=\"https://colab.research.google.com/assets/colab-badge.svg\" alt=\"Open In Colab\"/></a>"
      ]
    },
    {
      "cell_type": "markdown",
      "metadata": {
        "id": "9GYtZuZCz-kw"
      },
      "source": [
        "**WHILE LOOP**"
      ]
    },
    {
      "cell_type": "code",
      "execution_count": null,
      "metadata": {
        "colab": {
          "base_uri": "https://localhost:8080/"
        },
        "id": "oXFmWYPfv05i",
        "outputId": "e2bd924e-aba0-4b8a-9127-ffc2334d5a36"
      },
      "outputs": [
        {
          "name": "stdout",
          "output_type": "stream",
          "text": [
            "The count is:  0\n",
            "The count is:  1\n",
            "The count is:  2\n",
            "The count is:  3\n",
            "The count is:  4\n",
            "The count is:  5\n",
            "The count is:  6\n",
            "The count is:  7\n",
            "The count is:  8\n",
            "Good bye!\n"
          ]
        }
      ],
      "source": [
        "#Contoh penggunaan While Loop\n",
        "#Catatan: Penentuan ruang lingkup di Python bisa menggunakan tab alih-alih menggunakan tanda kurung\n",
        "\n",
        "count = 0\n",
        "while (count < 9):\n",
        "  print (\"The count is: \", count)\n",
        "  count = count + 1\n",
        "\n",
        "print (\"Good bye!\")"
      ]
    },
    {
      "cell_type": "markdown",
      "source": [],
      "metadata": {
        "id": "NEdd_HgdFDSG"
      }
    },
    {
      "cell_type": "markdown",
      "source": [],
      "metadata": {
        "id": "gP_7BMVaFESM"
      }
    },
    {
      "cell_type": "code",
      "source": [],
      "metadata": {
        "id": "l39LqJ3uFFF-"
      },
      "execution_count": null,
      "outputs": []
    },
    {
      "cell_type": "code",
      "execution_count": null,
      "metadata": {
        "colab": {
          "base_uri": "https://localhost:8080/"
        },
        "id": "6Tx2mk2s3LF9",
        "outputId": "9a403a71-c3d7-4c6a-8d58-920daeb4af30"
      },
      "outputs": [
        {
          "name": "stdout",
          "output_type": "stream",
          "text": [
            "a = 3 > 0\n",
            "    a sekarang : 2\n",
            "a = 2 > 0\n",
            "    a sekarang : 1\n",
            "a = 1 > 0\n",
            "    a sekarang : 0\n"
          ]
        }
      ],
      "source": [
        "a = 3\n",
        "# blok while akan dieksekusi\n",
        "# selama a > 3\n",
        "while a > 0:\n",
        "    print(\"a =\", a, \"> 0\")\n",
        "    a = a - 1\n",
        "    print(\"    a sekarang :\", a)"
      ]
    },
    {
      "cell_type": "code",
      "execution_count": null,
      "metadata": {
        "id": "evGPoWRx3YsE"
      },
      "outputs": [],
      "source": [
        "# contoh INFINITE LOOP\n",
        "# !!!hentikan program secara manual!!!\n",
        "# nilai b = 1 dan 1 > 0\n",
        "# karena nilai b tidak pernah berubah di dalam loop\n",
        "# maka kondisi akan selalu bernilai True\n",
        "b = 1     # b akan selalu bernilai 1\n",
        "while b > 0:\n",
        "    print(\"infinite loop\")"
      ]
    },
    {
      "cell_type": "code",
      "execution_count": null,
      "metadata": {
        "colab": {
          "base_uri": "https://localhost:8080/"
        },
        "id": "KEdOTF7zh9AB",
        "outputId": "ade548a6-0cdd-4e02-bbea-7f966a3d9d5b"
      },
      "outputs": [
        {
          "name": "stdout",
          "output_type": "stream",
          "text": [
            "Ulang lagi tidak? 3\n",
            "Total perulagan:  1\n"
          ]
        }
      ],
      "source": [
        "jawab = 'ya'\n",
        "hitung = 0\n",
        "\n",
        "while(jawab == 'ya'):\n",
        "    hitung += 1\n",
        "    jawab = input(\"Ulang lagi tidak? \")\n",
        "\n",
        "print(\"Total perulagan: \",hitung)"
      ]
    },
    {
      "cell_type": "markdown",
      "metadata": {
        "id": "PlWfazF00BUG"
      },
      "source": [
        "**FOR LOOP**"
      ]
    },
    {
      "cell_type": "code",
      "execution_count": null,
      "metadata": {
        "colab": {
          "base_uri": "https://localhost:8080/"
        },
        "id": "m1DHjbUQwNWA",
        "outputId": "092a4afd-03ef-471f-c0ea-443fbaa98c37"
      },
      "outputs": [
        {
          "name": "stdout",
          "output_type": "stream",
          "text": [
            "1\n",
            "2\n",
            "3\n",
            "4\n",
            "5\n"
          ]
        }
      ],
      "source": [
        "#Contoh pengulangan for sederhana\n",
        "angka = [1,2,3,4,5]\n",
        "for x in angka:\n",
        "  print(x)"
      ]
    },
    {
      "cell_type": "code",
      "execution_count": null,
      "metadata": {
        "colab": {
          "base_uri": "https://localhost:8080/"
        },
        "id": "8wv4-2y30HMP",
        "outputId": "ac75a36b-cf4b-4364-fb0d-221f444e60aa"
      },
      "outputs": [
        {
          "name": "stdout",
          "output_type": "stream",
          "text": [
            "Saya suka makan nanas\n",
            "Saya suka makan apel\n",
            "Saya suka makan jeruk\n"
          ]
        }
      ],
      "source": [
        "#Contoh pengulangan for\n",
        "buah = [\"nanas\", \"apel\", \"jeruk\"]\n",
        "for makanan in buah:\n",
        "  print (\"Saya suka makan\", makanan)"
      ]
    },
    {
      "cell_type": "code",
      "execution_count": null,
      "metadata": {
        "colab": {
          "base_uri": "https://localhost:8080/"
        },
        "id": "1QegBOEUfasY",
        "outputId": "504e588a-c10f-4741-9559-15ecab77c681"
      },
      "outputs": [
        {
          "name": "stdout",
          "output_type": "stream",
          "text": [
            "Perulangan ke-0\n",
            "Perulangan ke-1\n",
            "Perulangan ke-2\n",
            "Perulangan ke-3\n",
            "Perulangan ke-4\n",
            "Perulangan ke-5\n",
            "Perulangan ke-6\n",
            "Perulangan ke-7\n",
            "Perulangan ke-8\n",
            "Perulangan ke-9\n"
          ]
        }
      ],
      "source": [
        "ulang = 10\n",
        "\n",
        "for i in range(ulang):\n",
        "    print(f\"Perulangan ke-{i}\")"
      ]
    },
    {
      "cell_type": "code",
      "execution_count": null,
      "metadata": {
        "colab": {
          "base_uri": "https://localhost:8080/"
        },
        "id": "7TZdjuWi0NAC",
        "outputId": "c34711fc-e965-4b9d-eb95-741d25537efe"
      },
      "outputs": [
        {
          "name": "stdout",
          "output_type": "stream",
          "text": [
            "Pikachu\n",
            "Pikachu\n",
            "Pikachu\n",
            "Pikachu\n",
            "Pikachu\n"
          ]
        }
      ],
      "source": [
        "# mencetak \"Pikachu\" sebanyak 5x\n",
        "for _ in range(5):\n",
        "    print(\"Pikachu\")"
      ]
    },
    {
      "cell_type": "code",
      "execution_count": null,
      "metadata": {
        "colab": {
          "base_uri": "https://localhost:8080/"
        },
        "id": "IkGqyuDjzayK",
        "outputId": "a820faec-a0f6-4c51-d5cf-1514946abb7e"
      },
      "outputs": [
        {
          "name": "stdout",
          "output_type": "stream",
          "text": [
            "1^2 adalah 1\n",
            "3^2 adalah 9\n",
            "5^2 adalah 25\n",
            "7^2 adalah 49\n",
            "9^2 adalah 81\n"
          ]
        }
      ],
      "source": [
        "# mencetak nilai kuadrat 1-10 dengan step=2\n",
        "for val in range(1, 10, 2):\n",
        "    val_kuadrat = val**2\n",
        "    print(f\"{val}^2 adalah {val_kuadrat}\")"
      ]
    },
    {
      "cell_type": "code",
      "execution_count": null,
      "metadata": {
        "colab": {
          "base_uri": "https://localhost:8080/"
        },
        "id": "D-LaV_r62CQm",
        "outputId": "a99d3cc6-73f1-434e-8067-b009138e4a45"
      },
      "outputs": [
        {
          "name": "stdout",
          "output_type": "stream",
          "text": [
            "Anda menguasai Python\n",
            "Anda menguasai R\n",
            "Anda menguasai Julia\n",
            "Anda menguasai Scala\n",
            "-------------------------\n",
            "Skill ke-1 : Python\n",
            "Skill ke-2 : R\n",
            "Skill ke-3 : Julia\n",
            "Skill ke-4 : Scala\n"
          ]
        }
      ],
      "source": [
        "# iterasi pada list\n",
        "skills = [\"Python\", \"R\", \"Julia\", \"Scala\"]\n",
        "for skill in skills:\n",
        "    print(\"Anda menguasai\", skill)\n",
        "print(\"-------------------------\")\n",
        "# iterasi pada list dengan menyertakan indeks (key)\n",
        "for idx, skill in enumerate(skills):\n",
        "    print(f\"Skill ke-{idx+1} : {skill}\")"
      ]
    },
    {
      "cell_type": "markdown",
      "metadata": {
        "id": "Et5Jhdn3hq6d"
      },
      "source": [
        "**NESTED LOOP**"
      ]
    },
    {
      "cell_type": "code",
      "execution_count": null,
      "metadata": {
        "colab": {
          "base_uri": "https://localhost:8080/"
        },
        "id": "ewJPigodjO0u",
        "outputId": "2fccbdd4-5372-4055-9b53-726b0ea7bf4f"
      },
      "outputs": [
        {
          "name": "stdout",
          "output_type": "stream",
          "text": [
            "Masukkan jumlah baris: 8\n",
            "* \n",
            "* * \n",
            "* * * \n",
            "* * * * \n",
            "* * * * * \n",
            "* * * * * * \n",
            "* * * * * * * \n",
            "* * * * * * * * \n"
          ]
        }
      ],
      "source": [
        "# Program Python dengan Nested Loop\n",
        "\n",
        "# Input jumlah baris\n",
        "baris = int(input(\"Masukkan jumlah baris: \"))\n",
        "\n",
        "# Loop untuk membuat pola\n",
        "for i in range(1, baris + 1):\n",
        "    for j in range(1, i + 1):\n",
        "        print(\"*\", end=\" \")\n",
        "    print()  # Pindah ke baris berikutnya"
      ]
    },
    {
      "cell_type": "code",
      "execution_count": null,
      "metadata": {
        "colab": {
          "base_uri": "https://localhost:8080/"
        },
        "id": "wQwmpn5SxTTr",
        "outputId": "c0ee1cbe-1dd2-43ca-afca-cafc74c23347"
      },
      "outputs": [
        {
          "name": "stdout",
          "output_type": "stream",
          "text": [
            "Pasangan hewan:\n",
            "Kucing Besar\n",
            "Kucing Kecil\n",
            "Kelinci Besar\n",
            "Kelinci Kecil\n",
            "Hamster Besar\n",
            "Hamster Kecil\n"
          ]
        }
      ],
      "source": [
        "#Menamai Pasangan Hewan\n",
        "hewan1 = [\"Kucing\", \"Kelinci\", \"Hamster\"]\n",
        "hewan2 = [\"Besar\", \"Kecil\"]\n",
        "print(\"Pasangan hewan:\")\n",
        "for h1 in hewan1:\n",
        "    for h2 in hewan2:\n",
        "        print(h1, h2)"
      ]
    },
    {
      "cell_type": "code",
      "execution_count": null,
      "metadata": {
        "colab": {
          "base_uri": "https://localhost:8080/"
        },
        "id": "XcrRoBeFx32F",
        "outputId": "4df857cb-5a3d-4c6c-ef9d-6cb62ddb5106"
      },
      "outputs": [
        {
          "name": "stdout",
          "output_type": "stream",
          "text": [
            "Jadwal hari dan waktu:\n",
            "Senin Pagi\n",
            "Senin Siang\n",
            "Senin Malam\n",
            "Selasa Pagi\n",
            "Selasa Siang\n",
            "Selasa Malam\n",
            "Rabu Pagi\n",
            "Rabu Siang\n",
            "Rabu Malam\n"
          ]
        }
      ],
      "source": [
        "#Daftar Hari dan Waktu\n",
        "hari = [\"Senin\", \"Selasa\", \"Rabu\"]\n",
        "waktu = [\"Pagi\", \"Siang\", \"Malam\"]\n",
        "print(\"Jadwal hari dan waktu:\")\n",
        "for h in hari:\n",
        "    for w in waktu:\n",
        "        print(h, w)"
      ]
    },
    {
      "cell_type": "code",
      "execution_count": null,
      "metadata": {
        "colab": {
          "base_uri": "https://localhost:8080/"
        },
        "id": "3V_mWxdWyBnE",
        "outputId": "4d0dc5d3-2995-4d9f-933b-aa48ab8bfd35"
      },
      "outputs": [
        {
          "name": "stdout",
          "output_type": "stream",
          "text": [
            "Hasil tebakan angka:\n",
            "Angka 2 salah.\n",
            "Angka 3 salah.\n",
            "Angka 4 salah.\n",
            "Angka 5 salah.\n",
            "Angka 2 salah.\n",
            "Benar! Angka 3 cocok.\n",
            "Angka 4 salah.\n",
            "Angka 5 salah.\n",
            "Angka 2 salah.\n",
            "Angka 3 salah.\n",
            "Angka 4 salah.\n",
            "Benar! Angka 5 cocok.\n"
          ]
        }
      ],
      "source": [
        "#Permainan Tebak Angka\n",
        "angka_rahasia = [1, 3, 5]\n",
        "angka_tebakan = [2, 3, 4, 5]\n",
        "print(\"Hasil tebakan angka:\")\n",
        "for rahasia in angka_rahasia:\n",
        "    for tebakan in angka_tebakan:\n",
        "        if rahasia == tebakan:\n",
        "            print(f\"Benar! Angka {tebakan} cocok.\")\n",
        "        else:\n",
        "            print(f\"Angka {tebakan} salah.\")"
      ]
    },
    {
      "cell_type": "markdown",
      "metadata": {
        "id": "zTPdmhVThBD0"
      },
      "source": [
        "**ELSE, BREAK, CONTINUE**"
      ]
    },
    {
      "cell_type": "code",
      "execution_count": null,
      "metadata": {
        "colab": {
          "base_uri": "https://localhost:8080/"
        },
        "id": "6xsE4xcIg6AX",
        "outputId": "99c3dad5-4159-495f-de03-f555d18890ea"
      },
      "outputs": [
        {
          "name": "stdout",
          "output_type": "stream",
          "text": [
            "b masih lebih kecil dari 5\n",
            "b masih lebih kecil dari 5\n",
            "b masih lebih kecil dari 5\n",
            "b masih lebih kecil dari 5\n",
            "b sekarang sama dengan 5\n",
            "\n",
            "-------BREAK-----------\n",
            "start loop\n",
            "  Bahasa Python\n",
            "  Bahasa R\n",
            "end loop\n",
            "\n",
            "------CONTINUE---------\n",
            "start loop\n",
            "  nilai a = 1\n",
            "  nilai a = 4\n",
            "  nilai a = 5\n",
            "end loop\n"
          ]
        }
      ],
      "source": [
        "# ============ WHILE DENGAN ELSE ============ #\n",
        "\n",
        "b = 1\n",
        "while b < 5:\n",
        "    print(\"b masih lebih kecil dari 5\")\n",
        "    b = b + 1\n",
        "else:\n",
        "    print(\"b sekarang sama dengan 5\")\n",
        "\n",
        "\n",
        "# break : menghentikan iterasi total\n",
        "\n",
        "\n",
        "print(\"\\n-------BREAK-----------\")\n",
        "\n",
        "\n",
        "skill = [\"Python\", \"R\", \"Julia\", \"Scala\"]     # data dalam bentuk list\n",
        "\n",
        "print(\"start loop\")\n",
        "for val in skill:\n",
        "    # jika val = \"Julia\" hentikan iterasi\n",
        "    if val == \"Julia\":\n",
        "        break\n",
        "\n",
        "    print(\"  Bahasa\", val)\n",
        "\n",
        "print(\"end loop\")\n",
        "\n",
        "\n",
        "# continue ; menghentikan iterasi saat ini\n",
        "# dan langsung melanjutkan iterasi berikutnya\n",
        "\n",
        "print(\"\\n------CONTINUE---------\")\n",
        "\n",
        "print(\"start loop\")\n",
        "a = 0\n",
        "while a < 5:\n",
        "    a = a + 1\n",
        "\n",
        "    # jika nilai a 2 atau 3 : continue\n",
        "    if a == 2 or a == 3:\n",
        "        continue\n",
        "\n",
        "    print(\"  nilai a =\", a)\n",
        "\n",
        "print(\"end loop\")"
      ]
    },
    {
      "cell_type": "code",
      "execution_count": 1,
      "metadata": {
        "colab": {
          "base_uri": "https://localhost:8080/"
        },
        "id": "YD4tMXWUixZF",
        "outputId": "104aab32-b3b5-4108-b3a4-d0fb6e39d067"
      },
      "outputs": [
        {
          "output_type": "stream",
          "name": "stdout",
          "text": [
            "Masukkan jumlah barang yang dibeli: 2\n",
            "\n",
            "Barang ke-1:\n",
            "Masukkan harga satuan barang (dalam IDR): 2000\n",
            "Masukkan jumlah unit barang: 4\n",
            "Total harga untuk barang ke-1: IDR 8000.00\n",
            "\n",
            "Barang ke-2:\n",
            "Masukkan harga satuan barang (dalam IDR): 6000\n",
            "Masukkan jumlah unit barang: 4\n",
            "Total harga untuk barang ke-2: IDR 24000.00\n",
            "\n",
            "Total belanja Anda adalah: IDR 32000.00\n"
          ]
        }
      ],
      "source": [
        "\n",
        "900# Program untuk menghitung total belanja\n",
        "def hitung_total_belanja():\n",
        "    total_belanja = 0  # Variabel untuk menyimpan total belanja\n",
        "\n",
        "    # Meminta jumlah barang yang dibeli\n",
        "    jumlah_barang = int(input(\"Masukkan jumlah barang yang dibeli: \"))\n",
        "\n",
        "    # Looping untuk setiap barang\n",
        "    for i in range(jumlah_barang):\n",
        "        print(f\"\\nBarang ke-{i+1}:\")\n",
        "\n",
        "        # Meminta harga satuan dan jumlah unit untuk setiap barang\n",
        "        harga_satuan = float(input(\"Masukkan harga satuan barang (dalam IDR): \"))\n",
        "        jumlah_unit = int(input(\"Masukkan jumlah unit barang: \"))\n",
        "\n",
        "        # Menghitung total harga untuk barang ini\n",
        "        total_harga_barang = harga_satuan * jumlah_unit\n",
        "\n",
        "        # Menambahkan total harga barang ke total belanja\n",
        "        total_belanja += total_harga_barang\n",
        "\n",
        "        # Menampilkan total harga barang\n",
        "        print(f\"Total harga untuk barang ke-{i+1}: IDR {total_harga_barang:.2f}\")\n",
        "\n",
        "    # Menampilkan total belanja\n",
        "    print(f\"\\nTotal belanja Anda adalah: IDR {total_belanja:.2f}\")\n",
        "\n",
        "# Menjalankan program\n",
        "hitung_total_belanja()"
      ]
    }
  ],
  "metadata": {
    "colab": {
      "provenance": [],
      "include_colab_link": true
    },
    "kernelspec": {
      "display_name": "Python 3",
      "name": "python3"
    },
    "language_info": {
      "name": "python"
    }
  },
  "nbformat": 4,
  "nbformat_minor": 0
}