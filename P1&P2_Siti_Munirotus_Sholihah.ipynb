{
  "nbformat": 4,
  "nbformat_minor": 0,
  "metadata": {
    "colab": {
      "provenance": [],
      "authorship_tag": "ABX9TyO8CIt1ydjcb8pavLaHA1l+",
      "include_colab_link": true
    },
    "kernelspec": {
      "name": "python3",
      "display_name": "Python 3"
    },
    "language_info": {
      "name": "python"
    }
  },
  "cells": [
    {
      "cell_type": "markdown",
      "metadata": {
        "id": "view-in-github",
        "colab_type": "text"
      },
      "source": [
        "<a href=\"https://colab.research.google.com/github/Sitimunirotuss/Sitimunirotuss/blob/main/P1%26P2_Siti_Munirotus_Sholihah.ipynb\" target=\"_parent\"><img src=\"https://colab.research.google.com/assets/colab-badge.svg\" alt=\"Open In Colab\"/></a>"
      ]
    },
    {
      "cell_type": "code",
      "source": [
        "# Meminta input dari pengguna\n",
        "bilangan = int(input(\"Masukkan sebuah bilangan: \"))\n",
        "\n",
        "# Memeriksa apakah bilangan habis dibagi 3\n",
        "if bilangan % 3 == 0:\n",
        "    print(f\"Bilangan {bilangan} habis dibagi 3.\")\n",
        "else:\n",
        "    print(f\"Bilangan {bilangan} tidak habis dibagi 3.\")\n",
        "\n"
      ],
      "metadata": {
        "colab": {
          "base_uri": "https://localhost:8080/"
        },
        "id": "Ot3W3ji2soo-",
        "outputId": "c9a92fb9-316b-43eb-947c-852c7babffa2"
      },
      "execution_count": 2,
      "outputs": [
        {
          "output_type": "stream",
          "name": "stdout",
          "text": [
            "Masukkan sebuah bilangan: 9\n",
            "Bilangan 9 habis dibagi 3.\n"
          ]
        }
      ]
    },
    {
      "cell_type": "code",
      "source": [
        "# Meminta input nama dari pengguna\n",
        "nama = input(\"Masukkan nama Anda: \")\n",
        "\n",
        "# Meminta input jenis kelamin dari pengguna\n",
        "kelamin = input(\"Masukkan jenis kelamin (pria/wanita): \").lower()\n",
        "\n",
        "# Memeriksa jenis kelamin dan mencetak pesan yang sesuai\n",
        "if kelamin == \"pria\":\n",
        "    print(f\"Halo bro, {nama}!\")\n",
        "elif kelamin == \"wanita\":\n",
        "    print(f\"Halo sis, {nama}!\")\n",
        "else:\n",
        "    print(\"Jenis kelamin tidak valid. Silakan masukkan 'pria' atau 'wanita'.\")"
      ],
      "metadata": {
        "colab": {
          "base_uri": "https://localhost:8080/"
        },
        "id": "xwR1wqH6v79N",
        "outputId": "4fb7b6ea-0734-4a55-e6ce-59d34a3e080d"
      },
      "execution_count": 4,
      "outputs": [
        {
          "output_type": "stream",
          "name": "stdout",
          "text": [
            "Masukkan nama Anda: walid\n",
            "Masukkan jenis kelamin (pria/wanita): pria\n",
            "Halo bro, walid!\n"
          ]
        }
      ]
    },
    {
      "cell_type": "code",
      "source": [
        "# kondisi if  elif else\n",
        "str_input= input(\"masukkan saldo anda:\")\n",
        "saldo= int(str_input)\n",
        "if saldo == 100:\n",
        "  print(\"aman\")\n",
        "elif saldo>= 50:\n",
        "  print(\"waspada\")\n",
        "else:\n",
        "  print(\"sabar yaaa\")\n",
        "\n"
      ],
      "metadata": {
        "colab": {
          "base_uri": "https://localhost:8080/"
        },
        "id": "MS3k-U5lwEvt",
        "outputId": "ebf3fb31-499b-4957-f0e5-9355e3e82125"
      },
      "execution_count": 13,
      "outputs": [
        {
          "output_type": "stream",
          "name": "stdout",
          "text": [
            "masukkan saldo anda:90\n",
            "waspada\n"
          ]
        }
      ]
    },
    {
      "cell_type": "code",
      "source": [
        "jumlah_barang = int(input(\"masukkan jumlah barang yang dibeli: \"))\n",
        "\n",
        "for i in range(jumlah_barang):\n",
        "    nama_barang = input(f\"masukkan nama barang ke-{i+1}: \")\n",
        "    harga = int(input(f\"masukkan harga barang ke-{i+1}: \"))\n",
        "    jumlah = int(input(f\"masukkan jumlah barang ke-{i+1}: \"))\n",
        "    total_harga = harga * jumlah\n",
        "    print(f\"total harga barang {nama_barang} adalah {total_harga}\")\n",
        ""
      ],
      "metadata": {
        "colab": {
          "base_uri": "https://localhost:8080/"
        },
        "id": "wnt2SGWFy9Ct",
        "outputId": "4dc85c02-a994-4d48-8b5a-634ff3bbe2ae"
      },
      "execution_count": 5,
      "outputs": [
        {
          "output_type": "stream",
          "name": "stdout",
          "text": [
            "masukkan jumlah barang yang dibeli: 2\n",
            "masukkan nama barang ke-1: pena\n",
            "masukkan harga barang ke-1: 2000\n",
            "masukkan jumlah barang ke-1: 2\n",
            "total harga barang pena adalah 4000\n",
            "masukkan nama barang ke-2: buku\n",
            "masukkan harga barang ke-2: 7000\n",
            "masukkan jumlah barang ke-2: 8\n",
            "total harga barang buku adalah 56000\n"
          ]
        }
      ]
    },
    {
      "cell_type": "code",
      "source": [
        "#Kondisi if adalah kondisi yang akan dieksekusi oleh program jika bernilai benar atau TRUE\n",
        "\n",
        "nilai = 9\n",
        "#jika kondisi benar/TRUE maka program akan mengeksekusi perintah dibawahnya\n",
        "if(nilai > 7):\n",
        "   print(\"Sembilan Lebih Besar Dari Angka Tujuh\")\n",
        "# Kondisi Benar, Diekesekusi\n",
        "#jika kondisi salah/FALSE maka program tidak akan mengeksekusi perintah di bawahnya\n",
        "if(nilai > 10):\n",
        "  print(\"Sembilan Lebih Besar Dari Angka Sepuluh\")\n",
        "# Kondisi Salah, Maka kondisi tidak tereksekusi\n"
      ],
      "metadata": {
        "colab": {
          "base_uri": "https://localhost:8080/"
        },
        "id": "AccFPAbf3AfF",
        "outputId": "5946a990-69e5-4d61-fdfd-11c89a9a7367"
      },
      "execution_count": 24,
      "outputs": [
        {
          "output_type": "stream",
          "name": "stdout",
          "text": [
            "Sembilan Lebih Besar Dari Angka Tujuh\n"
          ]
        }
      ]
    },
    {
      "cell_type": "code",
      "source": [
        "grade = float(input(\"Masukkan Nilai Anda: \"))\n",
        "if grade == 100:\n",
        "   print(\"perfect\")\n",
        "if grade == 90:\n",
        "   print(\"ok\")\n",
        "   print(\"keep working hard!\")"
      ],
      "metadata": {
        "colab": {
          "base_uri": "https://localhost:8080/"
        },
        "id": "CGY6PGBu3QMd",
        "outputId": "fbe80d57-f4e4-4704-89d2-dc675f4ee8a6"
      },
      "execution_count": 17,
      "outputs": [
        {
          "output_type": "stream",
          "name": "stdout",
          "text": [
            "Masukkan Nilai Anda: 90\n",
            "ok\n",
            "keep working hard!\n"
          ]
        }
      ]
    },
    {
      "cell_type": "code",
      "source": [
        "grade = float(input(\"Masukkan Nilai Anda: \"))\n",
        "if grade == 100:\n",
        "   print(\"perfect\")\n",
        "if grade == 90:\n",
        "   print(\"ok\")\n",
        "   print(\"keep working hard!\")"
      ],
      "metadata": {
        "colab": {
          "base_uri": "https://localhost:8080/"
        },
        "id": "boCpekXK4lJD",
        "outputId": "40c14715-f2c9-4a0b-9aa2-e9a10b025691"
      },
      "execution_count": 25,
      "outputs": [
        {
          "name": "stdout",
          "output_type": "stream",
          "text": [
            "Masukkan Nilai Anda: 76\n"
          ]
        }
      ]
    },
    {
      "cell_type": "code",
      "source": [
        "# Kondisi if else adalah jika kondisi bernilai TRUE maka akan dieksekusi pada if\n",
        "# tetapi jika bernilai FALSE maka akan dieksekusi kode pada else\n",
        "nilai = 8\n",
        "# Jika pernyataan pada if bernilai TRUE maka if akan dieksekusi,\n",
        "# tetapi jika FALSE kode pada else yang akan dieksekusi.\n",
        "if(nilai > 7):\n",
        "  print(\"Selamat Anda Lulus\")\n",
        "else:\n",
        "  print(\"Maaf Anda Tidak Lulus\")"
      ],
      "metadata": {
        "colab": {
          "base_uri": "https://localhost:8080/"
        },
        "id": "rEHW0Qv54vfc",
        "outputId": "e142cbb5-ecc3-49ca-b20e-e3d17f19ebab"
      },
      "execution_count": 28,
      "outputs": [
        {
          "output_type": "stream",
          "name": "stdout",
          "text": [
            "Selamat Anda Lulus\n"
          ]
        }
      ]
    },
    {
      "cell_type": "code",
      "source": [
        "str_input = input('Enter your grade: ')\n",
        "grade = int(str_input)\n",
        "if grade == 100:\n",
        "   print(\"perfect\")\n",
        "else:\n",
        "   print(\"keep it up\")"
      ],
      "metadata": {
        "colab": {
          "base_uri": "https://localhost:8080/"
        },
        "id": "ghkaTcXW5HsE",
        "outputId": "24c47af1-cf65-43f2-f3ac-8a0ce843d081"
      },
      "execution_count": 29,
      "outputs": [
        {
          "output_type": "stream",
          "name": "stdout",
          "text": [
            "Enter your grade: 77\n",
            "keep it up\n"
          ]
        }
      ]
    },
    {
      "cell_type": "code",
      "source": [
        "Lapar = input(\"Apakah zaki lapar? \")\n",
        "if(\"lapar == ya\"):\n",
        "  print(\"Zaki makan\")\n",
        "else:\n",
        "  print(\"Zaki tidak makan\")"
      ],
      "metadata": {
        "colab": {
          "base_uri": "https://localhost:8080/"
        },
        "id": "pPpK9XHQ5SD1",
        "outputId": "64279846-8c98-42d6-a4eb-8dd3000098f4"
      },
      "execution_count": 30,
      "outputs": [
        {
          "output_type": "stream",
          "name": "stdout",
          "text": [
            "Apakah zaki lapar? tidak\n",
            "Zaki makan\n"
          ]
        }
      ]
    },
    {
      "cell_type": "code",
      "source": [
        "#Contoh penggunaan kondisi elif\n",
        "hari_ini = input(\"Masukkan hari(gunakan huruf kecil): \")\n",
        "if(hari_ini == \"senin\"):\n",
        "   print(\"Saya akan kuliah\")\n",
        "elif(hari_ini == \"selasa\"):\n",
        "   print(\"Saya akan kuliah\")\n",
        "elif(hari_ini == \"rabu\"):\n",
        "print(\"Saya akan kuliah\")\n",
        "elif(hari_ini == \"kamis\"):\n",
        "print(\"Saya akan kuliah\")\n",
        "elif(hari_ini == \"jumat\"):\n",
        "print(\"Saya akan kuliah\")\n",
        "elif(hari_ini == \"sabtu\"):\n",
        "print(\"Saya akan kuliah\")\n",
        "elif(hari_ini == \"minggu\"):\n",
        "print(\"Saya akan libur\")"
      ],
      "metadata": {
        "colab": {
          "base_uri": "https://localhost:8080/",
          "height": 106
        },
        "id": "7mcE-cRZ5mBl",
        "outputId": "465ee5c0-e43c-4ee1-e28e-6726c6598dab"
      },
      "execution_count": 31,
      "outputs": [
        {
          "output_type": "error",
          "ename": "IndentationError",
          "evalue": "expected an indented block after 'if' statement on line 3 (<ipython-input-31-893174e735f4>, line 4)",
          "traceback": [
            "\u001b[0;36m  File \u001b[0;32m\"<ipython-input-31-893174e735f4>\"\u001b[0;36m, line \u001b[0;32m4\u001b[0m\n\u001b[0;31m    print(\"Saya akan kuliah\")\u001b[0m\n\u001b[0m    ^\u001b[0m\n\u001b[0;31mIndentationError\u001b[0m\u001b[0;31m:\u001b[0m expected an indented block after 'if' statement on line 3\n"
          ]
        }
      ]
    },
    {
      "cell_type": "code",
      "source": [
        "str_input = input('Enter your grade: ')\n",
        "grade = int(str_input)\n",
        "if grade == 100:\n",
        "print(\"perfect\")\n",
        "elif grade >= 85:\n",
        "print(\"awesome\")\n",
        "elif grade >= 65:\n",
        "print(\"passed the exam\")\n",
        "else:\n",
        "print(\"below the passing grade\")"
      ],
      "metadata": {
        "id": "66z6TPm-5-al"
      },
      "execution_count": null,
      "outputs": []
    },
    {
      "cell_type": "code",
      "source": [
        "str_input = input('Enter your grade: ')\n",
        "grade = int(str_input)\n",
        "if grade == 100:\n",
        "print(\"perfect\")\n",
        "elif grade >= 85:\n",
        "print(\"awesome\")\n",
        "elif grade >= 65:\n",
        "print(\"passed the exam\")\n",
        "if grade <= 70:\n",
        "print(\"but you need to improve it!\")\n",
        "else:\n",
        "print(\"with ok grade\")\n",
        "else:\n",
        "print(\"below the passing grade\")"
      ],
      "metadata": {
        "id": "T1h7I3se6CQ1"
      },
      "execution_count": null,
      "outputs": []
    },
    {
      "cell_type": "code",
      "source": [
        "grade = int(input('Enter your current grade: '))\n",
        "prev_grade = int(input('Enter your previous grade: '))\n",
        "if grade >= 90 and prev_grade >= 65:\n",
        "print(\"awesome\")\n",
        "if grade >= 90 and prev_grade < 65:\n",
        "print(\"awesome. you definitely working hard, right?\")\n",
        "elif grade >= 65:\n",
        "P a g e 5 | 6\n",
        "print(\"passed the exam\")\n",
        "else:\n",
        "print(\"below the passing grade\")\n",
        "if (grade >= 65 and not prev_grade >= 65) or (not grade >= 65 and\n",
        "prev_grade >= 65):\n",
        "print(\"at least you passed one exam. good job!\")"
      ],
      "metadata": {
        "id": "LQ4ImMs96GMF"
      },
      "execution_count": null,
      "outputs": []
    },
    {
      "cell_type": "code",
      "source": [
        "#Contoh penggunaan While Loop\n",
        "#Catatan: Penentuan ruang lingkup di Python bisa menggunakan tab alih-alih\n",
        "menggunakan tanda kurung\n",
        "count = 0\n",
        "while (count < 9):\n",
        "print (\"The count is: \", count)\n",
        "count = count + 1\n",
        "print (\"Good bye!\")\n"
      ],
      "metadata": {
        "id": "iAdR4cwt6KWU"
      },
      "execution_count": null,
      "outputs": []
    },
    {
      "cell_type": "code",
      "source": [
        "a = 3\n",
        "# blok while akan dieksekusi\n",
        "# selama a > 0\n",
        "while a > 0:\n",
        "print(\"a =\", a, \"> 0\")\n",
        "a = a - 1\n",
        "print(\" a sekarang :\", a)"
      ],
      "metadata": {
        "id": "3eEFZl626TWM"
      },
      "execution_count": null,
      "outputs": []
    },
    {
      "cell_type": "code",
      "source": [
        "# contoh INFINITE LOOP\n",
        "# !!!hentikan program secara manual!!!\n",
        "# nilai b = 1 dan 1 > 0\n",
        "# karena nilai b tidak pernah berubah di dalam loop\n",
        "# maka kondisi akan selalu bernilai True\n",
        "b = 1 # b akan selalu bernilai 1\n",
        "while b > 0:\n",
        "print(\"infinite loop\")"
      ],
      "metadata": {
        "id": "sp5iUeqx6Xol"
      },
      "execution_count": null,
      "outputs": []
    },
    {
      "cell_type": "code",
      "source": [
        "jawab = 'ya'\n",
        "hitung = 0\n",
        "while(jawab == 'ya'):\n",
        "hitung += 1\n",
        "jawab = input(\"Ulang lagi tidak? \")\n",
        "print(\"Total perulagan: \",hitung)"
      ],
      "metadata": {
        "id": "_pqQ0Xn06a5d"
      },
      "execution_count": null,
      "outputs": []
    },
    {
      "cell_type": "code",
      "source": [
        "#Contoh pengulangan for sederhana\n",
        "angka = [1,2,3,4,5]\n",
        "for x in angka:\n",
        "print(x)"
      ],
      "metadata": {
        "id": "y6_zzg126aq8"
      },
      "execution_count": null,
      "outputs": []
    },
    {
      "cell_type": "code",
      "source": [
        "#Contoh pengulangan for\n",
        "buah = [\"nanas\", \"apel\", \"jeruk\"]\n",
        "for makanan in buah:\n",
        "print (\"Saya suka makan\", makanan)\n"
      ],
      "metadata": {
        "id": "-rfGUGmk6h2M"
      },
      "execution_count": null,
      "outputs": []
    },
    {
      "cell_type": "code",
      "source": [
        "ulang = 10\n",
        "for i in range(ulang):\n",
        "print(f\"Perulangan ke-{i}\")"
      ],
      "metadata": {
        "id": "O8y9xNu16lKs"
      },
      "execution_count": null,
      "outputs": []
    },
    {
      "cell_type": "code",
      "source": [
        "# mencetak \"Pikachu\" sebanyak 5x\n",
        "for _ in range(5):\n",
        "print(\"Pikachu\")"
      ],
      "metadata": {
        "id": "vWl1afnL6ofs"
      },
      "execution_count": null,
      "outputs": []
    },
    {
      "cell_type": "code",
      "source": [
        "# mencetak nilai kuadrat 1-10 dengan step=2\n",
        "for val in range(1, 10, 2):\n",
        "val_kuadrat = val**2\n",
        "print(f\"{val}^2 adalah {val_kuadrat}\")"
      ],
      "metadata": {
        "id": "3YzimzEp6vEF"
      },
      "execution_count": null,
      "outputs": []
    },
    {
      "cell_type": "code",
      "source": [
        "# iterasi pada list\n",
        "skills = [\"Python\", \"R\", \"Julia\", \"Scala\"]\n",
        "for skill in skills:\n",
        "print(\"Anda menguasai\", skill)\n",
        "print(\"-------------------------\")\n",
        "# iterasi pada list dengan menyertakan indeks (key)\n",
        "for idx, skill in enumerate(skills):\n",
        "print(f\"Skill ke-{idx+1} : {skill}\")"
      ],
      "metadata": {
        "id": "kS6yjhqK631U"
      },
      "execution_count": null,
      "outputs": []
    },
    {
      "cell_type": "code",
      "source": [
        "# Program Python dengan Nested Loop\n",
        "# Input jumlah baris\n",
        "baris = int(input(\"Masukkan jumlah baris: \"))\n",
        "# Loop untuk membuat pola\n",
        "for i in range(1, baris + 1):\n",
        "for j in range(1, i + 1):\n",
        "print(\"*\", end=\" \")\n",
        "print() # Pindah ke baris berikutnya"
      ],
      "metadata": {
        "id": "87HUBdCY64tT"
      },
      "execution_count": null,
      "outputs": []
    },
    {
      "cell_type": "code",
      "source": [
        "#Menamai Pasangan Hewan\n",
        "hewan1 = [\"Kucing\", \"Kelinci\", \"Hamster\"]\n",
        "hewan2 = [\"Besar\", \"Kecil\"]\n",
        "print(\"Pasangan hewan:\")\n",
        "for h1 in hewan1:\n",
        "for h2 in hewan2:\n",
        "print(h1, h2)"
      ],
      "metadata": {
        "id": "8HyLNL7968LM"
      },
      "execution_count": null,
      "outputs": []
    },
    {
      "cell_type": "code",
      "source": [
        "#Daftar Hari dan Waktu\n",
        "hari = [\"Senin\", \"Selasa\", \"Rabu\"]\n",
        "waktu = [\"Pagi\", \"Siang\", \"Malam\"]\n",
        "print(\"Jadwal hari dan waktu:\")\n",
        "for h in hari:\n",
        "for w in waktu:\n",
        "print(h, w)"
      ],
      "metadata": {
        "id": "vJYODbp76_UV"
      },
      "execution_count": null,
      "outputs": []
    },
    {
      "cell_type": "code",
      "source": [
        "#Permainan Tebak Angka\n",
        "angka_rahasia = [1, 3, 5]\n",
        "angka_tebakan = [2, 3, 4, 5]\n",
        "print(\"Hasil tebakan angka:\")\n",
        "for rahasia in angka_rahasia:\n",
        "for tebakan in angka_tebakan:\n",
        "if rahasia == tebakan:\n",
        "print(f\"Benar! Angka {tebakan} cocok.\")\n",
        "else:\n",
        "print(f\"Angka {tebakan} salah.\")\n"
      ],
      "metadata": {
        "id": "-T9Mcj5v7B9N"
      },
      "execution_count": null,
      "outputs": []
    },
    {
      "cell_type": "code",
      "source": [
        "# ============ WHILE DENGAN ELSE ============ #\n",
        "b = 1\n",
        "while b < 5:\n",
        "print(\"b masih lebih kecil dari 5\")\n",
        "b = b + 1\n",
        "else:\n",
        "print(\"b sekarang sama dengan 5\")\n",
        "# break : menghentikan iterasi total\n",
        "print(\"\\n-------BREAK-----------\")\n",
        "skill = [\"Python\", \"R\", \"Julia\", \"Scala\"] # data dalam bentuk list\n",
        "print(\"start loop\")\n",
        "for val in skill:\n",
        "# jika val = \"Julia\" hentikan iterasi\n",
        "if val == \"Julia\":\n",
        "break\n",
        "print(\" Bahasa\", val)\n",
        "print(\"end loop\")\n",
        "# continue ; menghentikan iterasi saat ini\n",
        "# dan langsung melanjutkan iterasi berikutnya\n",
        "print(\"\\n------CONTINUE---------\")"
      ],
      "metadata": {
        "id": "Mjh44YzU7Ex8"
      },
      "execution_count": null,
      "outputs": []
    },
    {
      "cell_type": "code",
      "source": [
        "print(\"start loop\")\n",
        "a = 0\n",
        "while a < 5:\n",
        "   a = a + 1\n",
        "# jika nilai a 2 atau 3 : continue\n",
        "if a == 2 or a == 3:\n",
        "    continue\n",
        "    print(\" nilai a =\", a)\n",
        "print(\"end loop:\")"
      ],
      "metadata": {
        "colab": {
          "base_uri": "https://localhost:8080/",
          "height": 124
        },
        "id": "zP6tlVxA7KYc",
        "outputId": "f6240d67-e7ed-4e7c-8301-c39b4b6ca4e6"
      },
      "execution_count": 33,
      "outputs": [
        {
          "output_type": "stream",
          "name": "stdout",
          "text": [
            "start loop\n"
          ]
        },
        {
          "output_type": "error",
          "ename": "SyntaxError",
          "evalue": "'continue' not properly in loop (<ipython-input-33-6a5d609f2fc5>, line 7)",
          "traceback": [
            "\u001b[0;36m  File \u001b[0;32m\"<ipython-input-33-6a5d609f2fc5>\"\u001b[0;36m, line \u001b[0;32m7\u001b[0m\n\u001b[0;31m    continue\u001b[0m\n\u001b[0m    ^\u001b[0m\n\u001b[0;31mSyntaxError\u001b[0m\u001b[0;31m:\u001b[0m 'continue' not properly in loop\n"
          ]
        }
      ]
    }
  ]
}