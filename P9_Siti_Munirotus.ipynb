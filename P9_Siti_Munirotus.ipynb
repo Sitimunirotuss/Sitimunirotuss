{
  "cells": [
    {
      "cell_type": "markdown",
      "metadata": {
        "id": "view-in-github",
        "colab_type": "text"
      },
      "source": [
        "<a href=\"https://colab.research.google.com/github/Sitimunirotuss/Sitimunirotuss/blob/main/P9_Siti_Munirotus.ipynb\" target=\"_parent\"><img src=\"https://colab.research.google.com/assets/colab-badge.svg\" alt=\"Open In Colab\"/></a>"
      ]
    },
    {
      "cell_type": "code",
      "execution_count": null,
      "metadata": {
        "colab": {
          "base_uri": "https://localhost:8080/"
        },
        "id": "56DISV2ZJQeJ",
        "outputId": "acffe347-aa4c-468c-8fca-0d7ff03577a1"
      },
      "outputs": [
        {
          "name": "stdout",
          "output_type": "stream",
          "text": [
            "masukkan nama anda:Imun\n",
            " Halo, Imun ! selamat belajar pyton!\n",
            "Hallo {nama} selamat belajar pyton\n"
          ]
        }
      ],
      "source": [
        "#program menulis nama\n",
        "nama =input (  \"masukkan nama anda:\"  )\n",
        "\n",
        "print(F  \" Halo, {nama} ! selamat belajar pyton!\"  )\n",
        "print (  \"Hallo\"  ,  \"{nama}\"  ,   \"selamat belajar pyton\"  )"
      ]
    },
    {
      "cell_type": "code",
      "execution_count": null,
      "metadata": {
        "colab": {
          "base_uri": "https://localhost:8080/"
        },
        "id": "DUzK6pt-MUjM",
        "outputId": "7b47f1b8-45f7-4f42-ef3e-a8ccab8e9442"
      },
      "outputs": [
        {
          "name": "stdout",
          "output_type": "stream",
          "text": [
            "masukkan panjang:4\n",
            "masukkan lebar:8\n",
            "luas: 32\n"
          ]
        }
      ],
      "source": [
        "# program menghitung luas persegi panjang\n",
        "p =int(input(\"masukkan panjang:\"))\n",
        "l =int(input(\"masukkan lebar:\"))\n",
        "luas = p*l\n",
        "print(\"luas:\",luas)\n",
        "\n"
      ]
    },
    {
      "cell_type": "code",
      "execution_count": null,
      "metadata": {
        "colab": {
          "base_uri": "https://localhost:8080/"
        },
        "id": "FaKx1aYQPM7S",
        "outputId": "daaf76e4-b0ca-4793-eb61-7495c42b2630"
      },
      "outputs": [
        {
          "name": "stdout",
          "output_type": "stream",
          "text": [
            "12\n",
            "bilangan genap\n"
          ]
        }
      ],
      "source": [
        "#program menentukan bilangan ganjil atau genap\n",
        "N = int(input())\n",
        "if N%2 == 0:\n",
        "  print(\"bilangan genap\")\n",
        "else:\n",
        "  print(\"bilangan ganjil\")"
      ]
    },
    {
      "cell_type": "code",
      "execution_count": null,
      "metadata": {
        "colab": {
          "base_uri": "https://localhost:8080/"
        },
        "id": "Wa8TPnk2O92r",
        "outputId": "39adb251-4636-402c-8dd1-ad611bcef6a7"
      },
      "outputs": [
        {
          "name": "stdout",
          "output_type": "stream",
          "text": [
            "20\n",
            "1 2 3 4 5 6 7 8 9 10 11 12 13 14 15 16 17 18 19 20 "
          ]
        }
      ],
      "source": [
        "#program menampilkan deret bilangan\n",
        "N = int(input())\n",
        "for i in range(1,N+1):\n",
        "  print(i, end=\" \")"
      ]
    },
    {
      "cell_type": "code",
      "execution_count": null,
      "metadata": {
        "colab": {
          "base_uri": "https://localhost:8080/"
        },
        "id": "nZSBmM91U8aJ",
        "outputId": "e981e97a-0a8f-430d-fdd1-aae3efedb363"
      },
      "outputs": [
        {
          "name": "stdout",
          "output_type": "stream",
          "text": [
            "masukan bilangan a: 6\n",
            "masukan bilangan b: 12\n",
            "Jumlah antara bilangan 6 sampai 12 adalah 63\n"
          ]
        }
      ],
      "source": [
        "# program menghitung bilangan bulat diantara a dan b\n",
        "a= int(input(\"masukan bilangan a: \"))\n",
        "b= int(input(\"masukan bilangan b: \"))\n",
        "Jumlah = 0\n",
        "for i in range(a,b+1):\n",
        "  Jumlah += i\n",
        "print(f\"Jumlah antara bilangan {a} sampai {b} adalah {Jumlah}\")\n"
      ]
    },
    {
      "cell_type": "code",
      "execution_count": null,
      "metadata": {
        "colab": {
          "base_uri": "https://localhost:8080/"
        },
        "id": "8UdNGKcyXKVZ",
        "outputId": "cd3560de-f8ed-4181-c78e-b7a8f71f06d8"
      },
      "outputs": [
        {
          "name": "stdout",
          "output_type": "stream",
          "text": [
            "array asli: [5, 2, 8, 1]\n",
            "array terbalik: [1, 8, 2, 5]\n"
          ]
        }
      ],
      "source": [
        "#program mencetak nilai dari array dalam urutan terbalik\n",
        "A = [5, 2, 8, 1]\n",
        "array_terbalik = [0] * len(A)\n",
        "for i in range(len(A)):\n",
        "  array_terbalik [len(A)-1-i]=A[i]\n",
        "print(\"array asli:\",A)\n",
        "print(\"array terbalik:\", array_terbalik)\n",
        "\n",
        "\n"
      ]
    },
    {
      "cell_type": "code",
      "execution_count": null,
      "metadata": {
        "colab": {
          "base_uri": "https://localhost:8080/"
        },
        "id": "3XoaB7mUasZX",
        "outputId": "3cedfc92-fd4f-42a3-8ddb-ca3e43770208"
      },
      "outputs": [
        {
          "name": "stdout",
          "output_type": "stream",
          "text": [
            "masukan bilangan pertama: 4\n",
            "masukan bilangan kedua: 9\n",
            "Bilangan genap rentang 4 sampai 9\n",
            "4 6 8 "
          ]
        }
      ],
      "source": [
        "# program menghitung bilangan genap diantara a dan b\n",
        "a= int(input(\"masukan bilangan pertama: \"))\n",
        "b= int(input(\"masukan bilangan kedua: \"))\n",
        "print(f\"Bilangan genap rentang {a} sampai {b}\")\n",
        "for i in range(a,b+1):\n",
        "  if i % 2 == 0:\n",
        "    print((i),end=\" \")\n"
      ]
    },
    {
      "cell_type": "code",
      "execution_count": 2,
      "metadata": {
        "colab": {
          "base_uri": "https://localhost:8080/"
        },
        "id": "q-SXfB0WjYE1",
        "outputId": "795667a9-cb53-4f66-c8e1-cbcbf603d335"
      },
      "outputs": [
        {
          "output_type": "stream",
          "name": "stdout",
          "text": [
            "Masukkan bilangan bulat: 8\n",
            "8 bukan bilangan prima\n"
          ]
        }
      ],
      "source": [
        "# program menentukan bilangan prima dan bukan bilangan prima\n",
        "angka = int(input(\"Masukkan bilangan bulat: \"))\n",
        "prima = True\n",
        "if angka < 2:\n",
        "  prima = False\n",
        "else:\n",
        "  for i in range(2, angka):\n",
        "      if angka % i == 0:\n",
        "        prima = False\n",
        "        break\n",
        "if prima:\n",
        "  print(f\"{angka} adalah bilangan prima\")\n",
        "else:\n",
        "  print (f\"{angka} bukan bilangan prima\")"
      ]
    }
  ],
  "metadata": {
    "colab": {
      "provenance": [],
      "authorship_tag": "ABX9TyOGsSQR1Xg+atLFRpC/txJE",
      "include_colab_link": true
    },
    "kernelspec": {
      "display_name": "Python 3",
      "name": "python3"
    },
    "language_info": {
      "name": "python"
    }
  },
  "nbformat": 4,
  "nbformat_minor": 0
}